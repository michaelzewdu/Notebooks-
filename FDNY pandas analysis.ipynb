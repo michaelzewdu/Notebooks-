{
 "cells": [
  {
   "cell_type": "code",
   "execution_count": 2,
   "metadata": {},
   "outputs": [],
   "source": [
    "import pandas as pd\n",
    "\n"
   ]
  },
  {
   "cell_type": "code",
   "execution_count": 4,
   "metadata": {},
   "outputs": [
    {
     "data": {
      "text/plain": [
       "(218, 12)"
      ]
     },
     "execution_count": 4,
     "metadata": {},
     "output_type": "execute_result"
    }
   ],
   "source": [
    "fdny_dataset = pd.read_csv('../Datasets/Fdny/archive/fdny-firehouse-listing.csv')\n",
    "fdny_dataset.shape"
   ]
  },
  {
   "cell_type": "code",
   "execution_count": 6,
   "metadata": {},
   "outputs": [
    {
     "data": {
      "text/plain": [
       "Index(['FacilityName', 'FacilityAddress', 'Borough', 'Postcode', 'Latitude',\n",
       "       'Longitude', 'Community Board', 'Community Council ', 'Census Tract',\n",
       "       'BIN', 'BBL', 'NTA'],\n",
       "      dtype='object')"
      ]
     },
     "execution_count": 6,
     "metadata": {},
     "output_type": "execute_result"
    }
   ],
   "source": [
    "fdny_dataset.columns"
   ]
  },
  {
   "cell_type": "code",
   "execution_count": 14,
   "metadata": {},
   "outputs": [
    {
     "data": {
      "text/html": [
       "<div>\n",
       "<style scoped>\n",
       "    .dataframe tbody tr th:only-of-type {\n",
       "        vertical-align: middle;\n",
       "    }\n",
       "\n",
       "    .dataframe tbody tr th {\n",
       "        vertical-align: top;\n",
       "    }\n",
       "\n",
       "    .dataframe thead th {\n",
       "        text-align: right;\n",
       "    }\n",
       "</style>\n",
       "<table border=\"1\" class=\"dataframe\">\n",
       "  <thead>\n",
       "    <tr style=\"text-align: right;\">\n",
       "      <th></th>\n",
       "      <th>FacilityName</th>\n",
       "      <th>FacilityAddress</th>\n",
       "      <th>Borough</th>\n",
       "      <th>Postcode</th>\n",
       "      <th>Latitude</th>\n",
       "      <th>Longitude</th>\n",
       "      <th>Community Board</th>\n",
       "      <th>Community Council</th>\n",
       "      <th>Census Tract</th>\n",
       "      <th>BIN</th>\n",
       "      <th>BBL</th>\n",
       "      <th>NTA</th>\n",
       "    </tr>\n",
       "  </thead>\n",
       "  <tbody>\n",
       "    <tr>\n",
       "      <th>0</th>\n",
       "      <td>Engine 4/Ladder 15</td>\n",
       "      <td>42 South Street</td>\n",
       "      <td>Manhattan</td>\n",
       "      <td>10005.0</td>\n",
       "      <td>40.703466</td>\n",
       "      <td>-74.007538</td>\n",
       "      <td>1.0</td>\n",
       "      <td>1.0</td>\n",
       "      <td>7.0</td>\n",
       "      <td>1000867.0</td>\n",
       "      <td>1.000350e+09</td>\n",
       "      <td>Battery Park City-Lower Manhattan             ...</td>\n",
       "    </tr>\n",
       "    <tr>\n",
       "      <th>1</th>\n",
       "      <td>Engine 10/Ladder 10</td>\n",
       "      <td>124 Liberty Street</td>\n",
       "      <td>Manhattan</td>\n",
       "      <td>10006.0</td>\n",
       "      <td>40.710072</td>\n",
       "      <td>-74.012523</td>\n",
       "      <td>1.0</td>\n",
       "      <td>1.0</td>\n",
       "      <td>13.0</td>\n",
       "      <td>1075700.0</td>\n",
       "      <td>1.000520e+09</td>\n",
       "      <td>Battery Park City-Lower Manhattan             ...</td>\n",
       "    </tr>\n",
       "    <tr>\n",
       "      <th>2</th>\n",
       "      <td>Engine 6</td>\n",
       "      <td>49 Beekman Street</td>\n",
       "      <td>Manhattan</td>\n",
       "      <td>10038.0</td>\n",
       "      <td>40.710048</td>\n",
       "      <td>-74.005245</td>\n",
       "      <td>1.0</td>\n",
       "      <td>1.0</td>\n",
       "      <td>1501.0</td>\n",
       "      <td>1001287.0</td>\n",
       "      <td>1.000930e+09</td>\n",
       "      <td>Battery Park City-Lower Manhattan             ...</td>\n",
       "    </tr>\n",
       "    <tr>\n",
       "      <th>3</th>\n",
       "      <td>Engine 7/Ladder 1/Battalion 1/Manhattan Boroug...</td>\n",
       "      <td>100-104 Duane Street</td>\n",
       "      <td>Manhattan</td>\n",
       "      <td>10007.0</td>\n",
       "      <td>40.715463</td>\n",
       "      <td>-74.005938</td>\n",
       "      <td>1.0</td>\n",
       "      <td>1.0</td>\n",
       "      <td>33.0</td>\n",
       "      <td>1001647.0</td>\n",
       "      <td>1.001500e+09</td>\n",
       "      <td>SoHo-TriBeCa-Civic Center-Little Italy        ...</td>\n",
       "    </tr>\n",
       "    <tr>\n",
       "      <th>4</th>\n",
       "      <td>Ladder 8</td>\n",
       "      <td>14 North Moore Street</td>\n",
       "      <td>Manhattan</td>\n",
       "      <td>10013.0</td>\n",
       "      <td>40.719759</td>\n",
       "      <td>-74.006678</td>\n",
       "      <td>1.0</td>\n",
       "      <td>1.0</td>\n",
       "      <td>33.0</td>\n",
       "      <td>1002150.0</td>\n",
       "      <td>1.001890e+09</td>\n",
       "      <td>SoHo-TriBeCa-Civic Center-Little Italy        ...</td>\n",
       "    </tr>\n",
       "  </tbody>\n",
       "</table>\n",
       "</div>"
      ],
      "text/plain": [
       "                                        FacilityName        FacilityAddress  \\\n",
       "0                                 Engine 4/Ladder 15        42 South Street   \n",
       "1                                Engine 10/Ladder 10     124 Liberty Street   \n",
       "2                                           Engine 6      49 Beekman Street   \n",
       "3  Engine 7/Ladder 1/Battalion 1/Manhattan Boroug...   100-104 Duane Street   \n",
       "4                                           Ladder 8  14 North Moore Street   \n",
       "\n",
       "     Borough  Postcode   Latitude  Longitude  Community Board  \\\n",
       "0  Manhattan   10005.0  40.703466 -74.007538              1.0   \n",
       "1  Manhattan   10006.0  40.710072 -74.012523              1.0   \n",
       "2  Manhattan   10038.0  40.710048 -74.005245              1.0   \n",
       "3  Manhattan   10007.0  40.715463 -74.005938              1.0   \n",
       "4  Manhattan   10013.0  40.719759 -74.006678              1.0   \n",
       "\n",
       "   Community Council   Census Tract        BIN           BBL  \\\n",
       "0                 1.0           7.0  1000867.0  1.000350e+09   \n",
       "1                 1.0          13.0  1075700.0  1.000520e+09   \n",
       "2                 1.0        1501.0  1001287.0  1.000930e+09   \n",
       "3                 1.0          33.0  1001647.0  1.001500e+09   \n",
       "4                 1.0          33.0  1002150.0  1.001890e+09   \n",
       "\n",
       "                                                 NTA  \n",
       "0  Battery Park City-Lower Manhattan             ...  \n",
       "1  Battery Park City-Lower Manhattan             ...  \n",
       "2  Battery Park City-Lower Manhattan             ...  \n",
       "3  SoHo-TriBeCa-Civic Center-Little Italy        ...  \n",
       "4  SoHo-TriBeCa-Civic Center-Little Italy        ...  "
      ]
     },
     "execution_count": 14,
     "metadata": {},
     "output_type": "execute_result"
    }
   ],
   "source": [
    "fdny_dataset.head()"
   ]
  },
  {
   "cell_type": "code",
   "execution_count": 10,
   "metadata": {},
   "outputs": [
    {
     "data": {
      "text/plain": [
       "FacilityAddress\n",
       "10-40 47th Avenue                       1\n",
       "100-104 Duane Street                    1\n",
       "101-02 Jamaica Avenue                   1\n",
       "103-17 98th Street                      1\n",
       "104-12 Princeton Street                 1\n",
       "                                       ..\n",
       "97-28 43rd Avenue                       1\n",
       "998 Liberty Avenue                      1\n",
       "Building 292 Brooklyn Navy Yard         1\n",
       "Little West 12th Street/Hudson River    1\n",
       "Saint George Ferry Terminal             1\n",
       "Length: 218, dtype: int64"
      ]
     },
     "execution_count": 10,
     "metadata": {},
     "output_type": "execute_result"
    }
   ],
   "source": [
    "fdny_dataset.groupby('FacilityAddress').size()"
   ]
  },
  {
   "cell_type": "markdown",
   "metadata": {},
   "source": [
    "Below is the number of fire department facilities in each borough"
   ]
  },
  {
   "cell_type": "code",
   "execution_count": 13,
   "metadata": {},
   "outputs": [
    {
     "data": {
      "text/plain": [
       "Borough\n",
       "Bronx            34\n",
       "Brooklyn         66\n",
       "Manhattan        48\n",
       "Queens           50\n",
       "Staten Island    20\n",
       "dtype: int64"
      ]
     },
     "execution_count": 13,
     "metadata": {},
     "output_type": "execute_result"
    }
   ],
   "source": [
    "fdny_dataset.groupby('Borough').size()"
   ]
  },
  {
   "cell_type": "markdown",
   "metadata": {},
   "source": [
    "Below are the facilities in Manhattan\n"
   ]
  },
  {
   "cell_type": "code",
   "execution_count": 21,
   "metadata": {},
   "outputs": [
    {
     "data": {
      "text/plain": [
       "FacilityName\n",
       "Engine 1/Ladder 24                                         1\n",
       "Engine 10/Ladder 10                                        1\n",
       "Engine 14                                                  1\n",
       "Engine 15/Ladder 18/Battalion 4                            1\n",
       "Engine 16 / Ladder 7                                       1\n",
       "Engine 21                                                  1\n",
       "Engine 22/Ladder 13/Battalion 10                           1\n",
       "Engine 23                                                  1\n",
       "Engine 24/Ladder 5/Battalion 2                             1\n",
       "Engine 26                                                  1\n",
       "Engine 28/Ladder 11                                        1\n",
       "Engine 3/Ladder 12/Battalion 7                             1\n",
       "Engine 33/Ladder 9                                         1\n",
       "Engine 34/Ladder 21                                        1\n",
       "Engine 35/Ladder 14                                        1\n",
       "Engine 37/Ladder 40                                        1\n",
       "Engine 39/Ladder 16                                        1\n",
       "Engine 4/Ladder 15                                         1\n",
       "Engine 40/Ladder 35                                        1\n",
       "Engine 44                                                  1\n",
       "Engine 47                                                  1\n",
       "Engine 5                                                   1\n",
       "Engine 53/Ladder 43                                        1\n",
       "Engine 54/Ladder 4/Battalion 9                             1\n",
       "Engine 55                                                  1\n",
       "Engine 58/Ladder 26                                        1\n",
       "Engine 59/Ladder 30                                        1\n",
       "Engine 6                                                   1\n",
       "Engine 65                                                  1\n",
       "Engine 67                                                  1\n",
       "Engine 69/Ladder 28/Battalion 16                           1\n",
       "Engine 7/Ladder 1/Battalion 1/Manhattan Borough Command    1\n",
       "Engine 74                                                  1\n",
       "Engine 76/Ladder 22/Battalion 11                           1\n",
       "Engine 8 / Ladder 2 / Battalion 8                          1\n",
       "Engine 80/Ladder 23                                        1\n",
       "Engine 84/Ladder 34                                        1\n",
       "Engine 9/Ladder 6                                          1\n",
       "Engine 91                                                  1\n",
       "Engine 93/Ladder 45/Battalion 13                           1\n",
       "Engine 95/Ladder 36                                        1\n",
       "Ladder 20/Division 1                                       1\n",
       "Ladder 25/District Office 4/Division 3                     1\n",
       "Ladder 3/Battalion 6                                       1\n",
       "Ladder 8                                                   1\n",
       "Marine 1                                                   1\n",
       "Rescue 1                                                   1\n",
       "Squad 18                                                   1\n",
       "dtype: int64"
      ]
     },
     "execution_count": 21,
     "metadata": {},
     "output_type": "execute_result"
    }
   ],
   "source": [
    "manhattan = fdny_dataset.groupby('Borough').get_group('Manhattan')\n",
    "manhattan.groupby('FacilityName').size()"
   ]
  }
 ],
 "metadata": {
  "kernelspec": {
   "display_name": "Python 3.9.7 ('base')",
   "language": "python",
   "name": "python3"
  },
  "language_info": {
   "codemirror_mode": {
    "name": "ipython",
    "version": 3
   },
   "file_extension": ".py",
   "mimetype": "text/x-python",
   "name": "python",
   "nbconvert_exporter": "python",
   "pygments_lexer": "ipython3",
   "version": "3.9.7"
  },
  "orig_nbformat": 4,
  "vscode": {
   "interpreter": {
    "hash": "36ab7f9348c7d0662a1965af503f4376fbff05df74ea3a3ead8d3abcf8650cb8"
   }
  }
 },
 "nbformat": 4,
 "nbformat_minor": 2
}
